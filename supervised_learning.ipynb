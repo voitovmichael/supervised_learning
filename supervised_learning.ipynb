{
 "cells": [
  {
   "cell_type": "markdown",
   "id": "177ea2a5",
   "metadata": {
    "toc": true
   },
   "source": [
    "<h1>Table of Contents<span class=\"tocSkip\"></span></h1>\n",
    "<div class=\"toc\"><ul class=\"toc-item\"><li><span><a href=\"#Описание-исследования\" data-toc-modified-id=\"Описание-исследования-1\"><span class=\"toc-item-num\">1&nbsp;&nbsp;</span>Описание исследования</a></span></li><li><span><a href=\"#Подготовка-данных\" data-toc-modified-id=\"Подготовка-данных-2\"><span class=\"toc-item-num\">2&nbsp;&nbsp;</span>Подготовка данных</a></span></li><li><span><a href=\"#Исследование-задачи\" data-toc-modified-id=\"Исследование-задачи-3\"><span class=\"toc-item-num\">3&nbsp;&nbsp;</span>Исследование задачи</a></span><ul class=\"toc-item\"><li><span><a href=\"#Модель-случайного-леса\" data-toc-modified-id=\"Модель-случайного-леса-3.1\"><span class=\"toc-item-num\">3.1&nbsp;&nbsp;</span>Модель случайного леса</a></span></li><li><span><a href=\"#Дерево-решений\" data-toc-modified-id=\"Дерево-решений-3.2\"><span class=\"toc-item-num\">3.2&nbsp;&nbsp;</span>Дерево решений</a></span></li><li><span><a href=\"#Логистическая-регрессия\" data-toc-modified-id=\"Логистическая-регрессия-3.3\"><span class=\"toc-item-num\">3.3&nbsp;&nbsp;</span>Логистическая регрессия</a></span></li></ul></li><li><span><a href=\"#Борьба-с-дисбалансом\" data-toc-modified-id=\"Борьба-с-дисбалансом-4\"><span class=\"toc-item-num\">4&nbsp;&nbsp;</span>Борьба с дисбалансом</a></span><ul class=\"toc-item\"><li><span><a href=\"#Использование-параметра-class_weight\" data-toc-modified-id=\"Использование-параметра-class_weight-4.1\"><span class=\"toc-item-num\">4.1&nbsp;&nbsp;</span>Использование параметра class_weight</a></span></li><li><span><a href=\"#Техника-downsampling\" data-toc-modified-id=\"Техника-downsampling-4.2\"><span class=\"toc-item-num\">4.2&nbsp;&nbsp;</span>Техника downsampling</a></span><ul class=\"toc-item\"><li><span><a href=\"#Модель-случайного-леса\" data-toc-modified-id=\"Модель-случайного-леса-4.2.1\"><span class=\"toc-item-num\">4.2.1&nbsp;&nbsp;</span>Модель случайного леса</a></span></li><li><span><a href=\"#Дерево-решений\" data-toc-modified-id=\"Дерево-решений-4.2.2\"><span class=\"toc-item-num\">4.2.2&nbsp;&nbsp;</span>Дерево решений</a></span></li><li><span><a href=\"#Логистическая-регрессия\" data-toc-modified-id=\"Логистическая-регрессия-4.2.3\"><span class=\"toc-item-num\">4.2.3&nbsp;&nbsp;</span>Логистическая регрессия</a></span></li></ul></li></ul></li><li><span><a href=\"#Тестирование-модели\" data-toc-modified-id=\"Тестирование-модели-5\"><span class=\"toc-item-num\">5&nbsp;&nbsp;</span>Тестирование модели</a></span></li><li><span><a href=\"#Вывод\" data-toc-modified-id=\"Вывод-6\"><span class=\"toc-item-num\">6&nbsp;&nbsp;</span>Вывод</a></span></li><li><span><a href=\"#Чек-лист-готовности-проекта\" data-toc-modified-id=\"Чек-лист-готовности-проекта-7\"><span class=\"toc-item-num\">7&nbsp;&nbsp;</span>Чек-лист готовности проекта</a></span></li></ul></div>"
   ]
  },
  {
   "cell_type": "markdown",
   "id": "9811a6a3",
   "metadata": {},
   "source": [
    "# Отток клиентов"
   ]
  },
  {
   "cell_type": "markdown",
   "id": "0b793efc",
   "metadata": {},
   "source": [
    "Из «Бета-Банка» стали уходить клиенты. Каждый месяц. Немного, но заметно. Банковские маркетологи посчитали: сохранять текущих клиентов дешевле, чем привлекать новых.\n",
    "\n",
    "Нужно спрогнозировать, уйдёт клиент из банка в ближайшее время или нет. Вам предоставлены исторические данные о поведении клиентов и расторжении договоров с банком. \n",
    "\n",
    "Постройте модель с предельно большим значением *F1*-меры. Чтобы сдать проект успешно, нужно довести метрику до 0.59. Проверьте *F1*-меру на тестовой выборке самостоятельно.\n",
    "\n",
    "Дополнительно измеряйте *AUC-ROC*, сравнивайте её значение с *F1*-мерой.\n",
    "\n",
    "Источник данных: [https://www.kaggle.com/barelydedicated/bank-customer-churn-modeling](https://www.kaggle.com/barelydedicated/bank-customer-churn-modeling)"
   ]
  },
  {
   "cell_type": "markdown",
   "id": "9c9051dd",
   "metadata": {},
   "source": [
    "## Описание исследования"
   ]
  },
  {
   "cell_type": "markdown",
   "id": "e6f44df4",
   "metadata": {},
   "source": [
    "Цель данного исследования состоит в следующем:\n",
    " - необходимо подготовить данные для обучения модели\n",
    " - обучить модель на несбалансированных классах\n",
    " - получить значение метрики f1\n",
    " - привести классы к балансу, обучить модель\n",
    " - проверить значение метрики f1 с учетом балансировки\n",
    " - выбрать лучшую из трех моделей\n",
    " - провести тестирование модели"
   ]
  },
  {
   "cell_type": "markdown",
   "id": "acd7f671",
   "metadata": {},
   "source": [
    "## Подготовка данных"
   ]
  },
  {
   "cell_type": "code",
   "execution_count": 1,
   "id": "e67ecdad",
   "metadata": {},
   "outputs": [],
   "source": [
    "from io import BytesIO\n",
    "import requests\n",
    "import pandas as pd\n",
    "from sklearn.preprocessing import OrdinalEncoder\n",
    "from sklearn.model_selection import train_test_split\n",
    "from sklearn.ensemble import RandomForestClassifier\n",
    "from sklearn.linear_model import LogisticRegression\n",
    "from sklearn.tree import DecisionTreeClassifier\n",
    "from sklearn.dummy import DummyClassifier\n",
    "from sklearn.metrics import f1_score, recall_score, precision_score, accuracy_score, roc_auc_score\n",
    "from sklearn.utils import shuffle\n",
    "import numpy as np\n",
    "import matplotlib.pyplot as plt"
   ]
  },
  {
   "cell_type": "code",
   "execution_count": 2,
   "id": "85324642",
   "metadata": {},
   "outputs": [],
   "source": [
    "RANDOM_STATE = 12345"
   ]
  },
  {
   "cell_type": "code",
   "execution_count": 3,
   "id": "501d8911",
   "metadata": {},
   "outputs": [],
   "source": [
    "spreadsheet_id = '1jctWr_hicHv5bJH8BtonBS1JnNB0FDS1q1-cHxyEN2w'\n",
    "file_name=f'https://docs.google.com/spreadsheets/d/{spreadsheet_id}/export?format=csv'\n",
    "r = requests.get(file_name)\n",
    "data = pd.read_csv(BytesIO(r.content))"
   ]
  },
  {
   "cell_type": "code",
   "execution_count": 4,
   "id": "d9e3f028",
   "metadata": {},
   "outputs": [
    {
     "name": "stdout",
     "output_type": "stream",
     "text": [
      "<class 'pandas.core.frame.DataFrame'>\n",
      "RangeIndex: 10000 entries, 0 to 9999\n",
      "Data columns (total 14 columns):\n",
      " #   Column           Non-Null Count  Dtype  \n",
      "---  ------           --------------  -----  \n",
      " 0   RowNumber        10000 non-null  int64  \n",
      " 1   CustomerId       10000 non-null  int64  \n",
      " 2   Surname          10000 non-null  object \n",
      " 3   CreditScore      10000 non-null  int64  \n",
      " 4   Geography        10000 non-null  object \n",
      " 5   Gender           10000 non-null  object \n",
      " 6   Age              10000 non-null  int64  \n",
      " 7   Tenure           10000 non-null  int64  \n",
      " 8   Balance          10000 non-null  float64\n",
      " 9   NumOfProducts    10000 non-null  int64  \n",
      " 10  HasCrCard        10000 non-null  int64  \n",
      " 11  IsActiveMember   10000 non-null  int64  \n",
      " 12  EstimatedSalary  10000 non-null  float64\n",
      " 13  Exited           10000 non-null  int64  \n",
      "dtypes: float64(2), int64(9), object(3)\n",
      "memory usage: 1.1+ MB\n"
     ]
    },
    {
     "data": {
      "text/html": [
       "<div>\n",
       "<style scoped>\n",
       "    .dataframe tbody tr th:only-of-type {\n",
       "        vertical-align: middle;\n",
       "    }\n",
       "\n",
       "    .dataframe tbody tr th {\n",
       "        vertical-align: top;\n",
       "    }\n",
       "\n",
       "    .dataframe thead th {\n",
       "        text-align: right;\n",
       "    }\n",
       "</style>\n",
       "<table border=\"1\" class=\"dataframe\">\n",
       "  <thead>\n",
       "    <tr style=\"text-align: right;\">\n",
       "      <th></th>\n",
       "      <th>RowNumber</th>\n",
       "      <th>CustomerId</th>\n",
       "      <th>Surname</th>\n",
       "      <th>CreditScore</th>\n",
       "      <th>Geography</th>\n",
       "      <th>Gender</th>\n",
       "      <th>Age</th>\n",
       "      <th>Tenure</th>\n",
       "      <th>Balance</th>\n",
       "      <th>NumOfProducts</th>\n",
       "      <th>HasCrCard</th>\n",
       "      <th>IsActiveMember</th>\n",
       "      <th>EstimatedSalary</th>\n",
       "      <th>Exited</th>\n",
       "    </tr>\n",
       "  </thead>\n",
       "  <tbody>\n",
       "    <tr>\n",
       "      <th>0</th>\n",
       "      <td>1</td>\n",
       "      <td>15634602</td>\n",
       "      <td>Hargrave</td>\n",
       "      <td>619</td>\n",
       "      <td>France</td>\n",
       "      <td>Female</td>\n",
       "      <td>42</td>\n",
       "      <td>2</td>\n",
       "      <td>0.00</td>\n",
       "      <td>1</td>\n",
       "      <td>1</td>\n",
       "      <td>1</td>\n",
       "      <td>101348.88</td>\n",
       "      <td>1</td>\n",
       "    </tr>\n",
       "    <tr>\n",
       "      <th>1</th>\n",
       "      <td>2</td>\n",
       "      <td>15647311</td>\n",
       "      <td>Hill</td>\n",
       "      <td>608</td>\n",
       "      <td>Spain</td>\n",
       "      <td>Female</td>\n",
       "      <td>41</td>\n",
       "      <td>1</td>\n",
       "      <td>83807.86</td>\n",
       "      <td>1</td>\n",
       "      <td>0</td>\n",
       "      <td>1</td>\n",
       "      <td>112542.58</td>\n",
       "      <td>0</td>\n",
       "    </tr>\n",
       "    <tr>\n",
       "      <th>2</th>\n",
       "      <td>3</td>\n",
       "      <td>15619304</td>\n",
       "      <td>Onio</td>\n",
       "      <td>502</td>\n",
       "      <td>France</td>\n",
       "      <td>Female</td>\n",
       "      <td>42</td>\n",
       "      <td>8</td>\n",
       "      <td>159660.80</td>\n",
       "      <td>3</td>\n",
       "      <td>1</td>\n",
       "      <td>0</td>\n",
       "      <td>113931.57</td>\n",
       "      <td>1</td>\n",
       "    </tr>\n",
       "    <tr>\n",
       "      <th>3</th>\n",
       "      <td>4</td>\n",
       "      <td>15701354</td>\n",
       "      <td>Boni</td>\n",
       "      <td>699</td>\n",
       "      <td>France</td>\n",
       "      <td>Female</td>\n",
       "      <td>39</td>\n",
       "      <td>1</td>\n",
       "      <td>0.00</td>\n",
       "      <td>2</td>\n",
       "      <td>0</td>\n",
       "      <td>0</td>\n",
       "      <td>93826.63</td>\n",
       "      <td>0</td>\n",
       "    </tr>\n",
       "    <tr>\n",
       "      <th>4</th>\n",
       "      <td>5</td>\n",
       "      <td>15737888</td>\n",
       "      <td>Mitchell</td>\n",
       "      <td>850</td>\n",
       "      <td>Spain</td>\n",
       "      <td>Female</td>\n",
       "      <td>43</td>\n",
       "      <td>2</td>\n",
       "      <td>125510.82</td>\n",
       "      <td>1</td>\n",
       "      <td>1</td>\n",
       "      <td>1</td>\n",
       "      <td>79084.10</td>\n",
       "      <td>0</td>\n",
       "    </tr>\n",
       "  </tbody>\n",
       "</table>\n",
       "</div>"
      ],
      "text/plain": [
       "   RowNumber  CustomerId   Surname  CreditScore Geography  Gender  Age  \\\n",
       "0          1    15634602  Hargrave          619    France  Female   42   \n",
       "1          2    15647311      Hill          608     Spain  Female   41   \n",
       "2          3    15619304      Onio          502    France  Female   42   \n",
       "3          4    15701354      Boni          699    France  Female   39   \n",
       "4          5    15737888  Mitchell          850     Spain  Female   43   \n",
       "\n",
       "   Tenure    Balance  NumOfProducts  HasCrCard  IsActiveMember  \\\n",
       "0       2       0.00              1          1               1   \n",
       "1       1   83807.86              1          0               1   \n",
       "2       8  159660.80              3          1               0   \n",
       "3       1       0.00              2          0               0   \n",
       "4       2  125510.82              1          1               1   \n",
       "\n",
       "   EstimatedSalary  Exited  \n",
       "0        101348.88       1  \n",
       "1        112542.58       0  \n",
       "2        113931.57       1  \n",
       "3         93826.63       0  \n",
       "4         79084.10       0  "
      ]
     },
     "execution_count": 4,
     "metadata": {},
     "output_type": "execute_result"
    }
   ],
   "source": [
    "data.info()\n",
    "data.head()"
   ]
  },
  {
   "cell_type": "code",
   "execution_count": null,
   "id": "20ed78b8",
   "metadata": {},
   "outputs": [],
   "source": []
  },
  {
   "cell_type": "markdown",
   "id": "4412b13a",
   "metadata": {},
   "source": [
    "Имеется датасет с основной информацией о клиентах банка. Количество объектов 10_000, количество признаков объекта равно 13. Нас интересует признак Exited (целевой признак) - факт ухода клиента. Также можно заметить, что некоторые категориальные признаки необходимые для обучения модели, имеют текстовый вид (Geography, Gender). Их необходимо будет преобразовать."
   ]
  },
  {
   "cell_type": "code",
   "execution_count": 93,
   "id": "a50b3a0f",
   "metadata": {},
   "outputs": [],
   "source": [
    "features_column = [\n",
    "    'CreditScore', 'Geography', 'Gender', 'Age', \n",
    "    'Tenure', 'Balance', 'NumOfProducts', 'HasCrCard',\n",
    "    'IsActiveMember', 'EstimatedSalary'   \n",
    "]\n",
    "features = data[features_column]\n",
    "target = data['Exited']\n",
    "features = pd.get_dummies(features).drop('Gender_Female', axis=1)"
   ]
  },
  {
   "cell_type": "markdown",
   "id": "c300d6e6",
   "metadata": {},
   "source": [
    "Преобразуем категориальные данные из текстового формата в числовой. Применим метод прямого кодирования One-hot-encoding. Теперь данные готовы для обучения модели"
   ]
  },
  {
   "cell_type": "code",
   "execution_count": 95,
   "id": "40ce6d76",
   "metadata": {},
   "outputs": [
    {
     "name": "stdout",
     "output_type": "stream",
     "text": [
      "Доля тренировочных данных:  0.6\n",
      "Доля тестовых данных:  0.2\n",
      "Доля валидационных данных:  0.2\n"
     ]
    }
   ],
   "source": [
    "features_train, features_others, target_train, target_others = train_test_split(\n",
    "    features, target, train_size=.6, random_state=RANDOM_STATE\n",
    ")\n",
    "\n",
    "features_test, features_valid, target_test, target_valid = train_test_split(\n",
    "    features_others, target_others, test_size=.5, random_state=RANDOM_STATE\n",
    ")\n",
    "\n",
    "print('Доля тренировочных данных: ', features_train.shape[0] / features.shape[0])\n",
    "print('Доля тестовых данных: ', features_test.shape[0] / features.shape[0])\n",
    "print('Доля валидационных данных: ', features_valid.shape[0] / features.shape[0])"
   ]
  },
  {
   "cell_type": "markdown",
   "id": "6e4aa531",
   "metadata": {},
   "source": [
    "Для обучения нам понадобится не все признаки. Например RowNumber, Surname (номер строки и фамилия), можно исключить. По оставшимся признакам будем обучать модель. Также выделим целевой признак Exited (целевой признак). \n",
    "Исходную выборку разделим на три: обучающая выборка (train) - она составит 60% от первоначальной, тестовая выборка (test) - она составит 20% от первоначальной, валидационная выборка (valid) - она также составит 20% от первоначальной. \n",
    "Для определения успешного предсказания модели мы будем использовать f1 метрику. Эта метрика представляет собой среднее гармоническое между полнотой и точностью правильно предсказанных положительных объектов. Также на каждом этапе изменения модели будем вычислять метрику roc-auc. "
   ]
  },
  {
   "cell_type": "markdown",
   "id": "22a4c354",
   "metadata": {},
   "source": [
    "## Исследование задачи"
   ]
  },
  {
   "cell_type": "code",
   "execution_count": 96,
   "id": "5b0d1edd",
   "metadata": {},
   "outputs": [
    {
     "name": "stdout",
     "output_type": "stream",
     "text": [
      "<class 'pandas.core.frame.DataFrame'>\n",
      "RangeIndex: 10000 entries, 0 to 9999\n",
      "Data columns (total 14 columns):\n",
      " #   Column           Non-Null Count  Dtype  \n",
      "---  ------           --------------  -----  \n",
      " 0   RowNumber        10000 non-null  int64  \n",
      " 1   CustomerId       10000 non-null  int64  \n",
      " 2   Surname          10000 non-null  object \n",
      " 3   CreditScore      10000 non-null  int64  \n",
      " 4   Geography        10000 non-null  object \n",
      " 5   Gender           10000 non-null  object \n",
      " 6   Age              10000 non-null  int64  \n",
      " 7   Tenure           10000 non-null  int64  \n",
      " 8   Balance          10000 non-null  float64\n",
      " 9   NumOfProducts    10000 non-null  int64  \n",
      " 10  HasCrCard        10000 non-null  int64  \n",
      " 11  IsActiveMember   10000 non-null  int64  \n",
      " 12  EstimatedSalary  10000 non-null  float64\n",
      " 13  Exited           10000 non-null  int64  \n",
      "dtypes: float64(2), int64(9), object(3)\n",
      "memory usage: 1.1+ MB\n"
     ]
    }
   ],
   "source": [
    "data.info()"
   ]
  },
  {
   "cell_type": "code",
   "execution_count": 97,
   "id": "f145adfa",
   "metadata": {},
   "outputs": [],
   "source": [
    "def compute_roc_auc_score(model, features, target):\n",
    "    propabilities_valid = model.predict_proba(features)\n",
    "    propabilities_one = propabilities_valid[:, 1]\n",
    "    print('Показатель метрики roc-auc score:', round(roc_auc_score(target, propabilities_one), 3))"
   ]
  },
  {
   "cell_type": "code",
   "execution_count": 98,
   "id": "f883ca19",
   "metadata": {},
   "outputs": [],
   "source": [
    "def compute_f1_score(model, features, target):\n",
    "    predictions = model.predict(features)\n",
    "    print(f'Показатель метрики f1 score: {round(f1_score(target, predictions), 3)}')"
   ]
  },
  {
   "cell_type": "markdown",
   "id": "8314f82a",
   "metadata": {},
   "source": [
    "Создадим несколько вспомогательных функций: для подсчета метрики roc-auc, для подсчета метрики f1."
   ]
  },
  {
   "cell_type": "markdown",
   "id": "05536a5a",
   "metadata": {},
   "source": [
    "### Модель случайного леса"
   ]
  },
  {
   "cell_type": "code",
   "execution_count": 99,
   "id": "3ee76168",
   "metadata": {},
   "outputs": [],
   "source": [
    "def get_best_depth_forest(features_train, target_train):\n",
    "    best_depth_forest = 0\n",
    "    best_score = 0\n",
    "    for depth in range(1, 30, 1):\n",
    "        model = RandomForestClassifier(n_estimators=20, max_depth=depth, random_state=RANDOM_STATE)\n",
    "        model.fit(features_train, target_train)\n",
    "        predictions_valid = model.predict(features_valid)\n",
    "        predictions_valid\n",
    "        score = f1_score(target_valid, predictions_valid)\n",
    "        if score > best_score:\n",
    "            best_score = score\n",
    "            best_depth_forest = depth\n",
    "    print(f'best_depth: {best_depth_forest}, score: {best_score}')\n",
    "    return best_depth_forest"
   ]
  },
  {
   "cell_type": "code",
   "execution_count": 100,
   "id": "15c6e0f1",
   "metadata": {},
   "outputs": [
    {
     "name": "stdout",
     "output_type": "stream",
     "text": [
      "best_depth: 14, score: 0.5532544378698224\n"
     ]
    }
   ],
   "source": [
    "best_depth_forest = get_best_depth_forest(features_train, target_train)"
   ]
  },
  {
   "cell_type": "code",
   "execution_count": 101,
   "id": "3e21520c",
   "metadata": {},
   "outputs": [
    {
     "name": "stdout",
     "output_type": "stream",
     "text": [
      "Показатель метрики roc-auc score: 0.847\n"
     ]
    }
   ],
   "source": [
    "model = RandomForestClassifier(n_estimators=20, max_depth=best_depth_forest, random_state=RANDOM_STATE)\n",
    "model.fit(features_train, target_train)\n",
    "compute_roc_auc_score(model, features_valid, target_valid)"
   ]
  },
  {
   "cell_type": "markdown",
   "id": "b56bcbc3",
   "metadata": {},
   "source": [
    "Для модели случайного леса найдем наилучший показатель для параметра максимальной глубины.  Для этого обучем модель при разных показателях параметра. Наилучшим значением является 14. Метрика roc-auc при таком значении параметра max_depth будет равняться 0.847"
   ]
  },
  {
   "cell_type": "code",
   "execution_count": 105,
   "id": "d9bff1c4",
   "metadata": {},
   "outputs": [],
   "source": [
    "def get_best_estimators(features_train, target_train, best_depth_forest):\n",
    "    best_estimators = 0\n",
    "    best_score = 0\n",
    "    for estimators in range(5, 110, 5):\n",
    "        model = RandomForestClassifier(n_estimators=estimators, max_depth=best_depth_forest, random_state=RANDOM_STATE)\n",
    "        model.fit(features_train, target_train)\n",
    "        predictions_valid = model.predict(features_valid)\n",
    "        score = f1_score(target_valid, predictions_valid)\n",
    "        if score > best_score:\n",
    "            best_score = score\n",
    "            best_estimators = estimators\n",
    "    print(f'best_estimators: {best_estimators}, best_score: {best_score}')\n",
    "    return best_estimators"
   ]
  },
  {
   "cell_type": "code",
   "execution_count": 103,
   "id": "05d828de",
   "metadata": {},
   "outputs": [
    {
     "name": "stdout",
     "output_type": "stream",
     "text": [
      "best_estimators: 20, best_score: 0.5532544378698224\n"
     ]
    }
   ],
   "source": [
    "best_estimators = get_best_estimators(features_train, target_train, best_depth_forest)\n",
    "best_estimators = 15"
   ]
  },
  {
   "cell_type": "markdown",
   "id": "dfd7a3cb",
   "metadata": {},
   "source": [
    "Теперь определим наилучшее значение деревьев. Для этого также как и выше обучи модель при различных значениях этого параметра. Наилучший показатель метрики f1 будет при значении равном 20."
   ]
  },
  {
   "cell_type": "code",
   "execution_count": 104,
   "id": "2f931267",
   "metadata": {},
   "outputs": [
    {
     "name": "stdout",
     "output_type": "stream",
     "text": [
      "Показатель метрики roc-auc score: 0.847\n",
      "Показатель метрики f1 score: 0.553\n"
     ]
    }
   ],
   "source": [
    "model = RandomForestClassifier(n_estimators=best_estimators, max_depth=best_depth_forest, random_state=RANDOM_STATE)\n",
    "model.fit(features_train, target_train)\n",
    "compute_roc_auc_score(model, features_valid, target_valid)\n",
    "compute_f1_score(model, features_valid, target_valid)"
   ]
  },
  {
   "cell_type": "markdown",
   "id": "94f861d4",
   "metadata": {},
   "source": [
    "Определим показатели метрик roc-auc и f1 для модели с наилучшими гиперпараметрами."
   ]
  },
  {
   "cell_type": "markdown",
   "id": "3ba095f6",
   "metadata": {},
   "source": [
    "### Дерево решений"
   ]
  },
  {
   "cell_type": "code",
   "execution_count": 106,
   "id": "d23220f9",
   "metadata": {},
   "outputs": [],
   "source": [
    "def get_best_depth_tree(features_train, target_train):\n",
    "    best_depth_tree = 0\n",
    "    best_score = 0\n",
    "    for depth in range(1, 30, 1):\n",
    "        model = DecisionTreeClassifier(max_depth=depth, random_state=RANDOM_STATE)\n",
    "        model.fit(features_train, target_train)\n",
    "        predictions_valid = model.predict(features_valid)\n",
    "        predictions_valid\n",
    "        score = f1_score(target_valid, predictions_valid)\n",
    "        if score > best_score:\n",
    "            best_score = score\n",
    "            best_depth_tree = depth\n",
    "    print(f'best_depth: {best_depth_tree}, score: {best_score}')\n",
    "    return best_depth_tree"
   ]
  },
  {
   "cell_type": "code",
   "execution_count": 107,
   "id": "7805ceca",
   "metadata": {},
   "outputs": [
    {
     "name": "stdout",
     "output_type": "stream",
     "text": [
      "best_depth: 6, score: 0.5253456221198156\n"
     ]
    }
   ],
   "source": [
    "best_depth_tree = get_best_depth_tree(features_train, target_train)\n",
    "best_depth_tree = 7"
   ]
  },
  {
   "cell_type": "markdown",
   "id": "5109cd94",
   "metadata": {},
   "source": [
    "Рассмотрим модель дерева решений. Для этой модели подберем наилучший параметр максимальной глубины. Наилучшим значением гиперпараметра max_depth будет являться 6"
   ]
  },
  {
   "cell_type": "code",
   "execution_count": 108,
   "id": "95700e6b",
   "metadata": {},
   "outputs": [
    {
     "name": "stdout",
     "output_type": "stream",
     "text": [
      "Показатель метрики roc-auc score: 0.836\n",
      "Показатель метрики f1 score: 0.525\n"
     ]
    }
   ],
   "source": [
    "model = DecisionTreeClassifier(max_depth=best_depth_tree, random_state=RANDOM_STATE)\n",
    "model.fit(features_train, target_train)\n",
    "compute_roc_auc_score(model, features_valid, target_valid)\n",
    "compute_f1_score(model, features_valid, target_valid)"
   ]
  },
  {
   "cell_type": "markdown",
   "id": "d802e6d4",
   "metadata": {},
   "source": [
    "Определим показатели метрик roc-auc и f1 для модели с наилучшими гиперпараметрами. Данные показатели хуже чем у предыдущей модели - случайный лес"
   ]
  },
  {
   "cell_type": "markdown",
   "id": "4c94d4d2",
   "metadata": {},
   "source": [
    "### Логистическая регрессия"
   ]
  },
  {
   "cell_type": "code",
   "execution_count": 109,
   "id": "5209dfee",
   "metadata": {},
   "outputs": [
    {
     "name": "stdout",
     "output_type": "stream",
     "text": [
      "Показатель метрики roc-auc score: 0.642\n",
      "Показатель метрики f1 score: 0.137\n"
     ]
    }
   ],
   "source": [
    "model = LogisticRegression(random_state=RANDOM_STATE)\n",
    "model.fit(features_train, target_train)\n",
    "compute_roc_auc_score(model, features_valid, target_valid)\n",
    "compute_f1_score(model, features_valid, target_valid)"
   ]
  },
  {
   "cell_type": "markdown",
   "id": "73613372",
   "metadata": {},
   "source": [
    "Значение показателей метрик roc-auc и f1 для логистической регресси самый низкие из всех трех моделей: roc-auc - 0.642, f1 - 0.137"
   ]
  },
  {
   "cell_type": "markdown",
   "id": "a9362f81",
   "metadata": {},
   "source": [
    "Были рассчитаны метрики roc-auc, f1 на трех разных моделях с наилучшими гиперпараметрами для этих моделей. Исходя из значений метрик, наилучшей моеделью является \"Модель случайного леса\". Однако показатель метрики f1 все равно далек от ожидаемого результата (0.59). Также можно заметить, что чем выше показатель метрики f1 тем, выше показатель метрики roc-auc"
   ]
  },
  {
   "cell_type": "markdown",
   "id": "c95ad866",
   "metadata": {},
   "source": [
    "## Борьба с дисбалансом"
   ]
  },
  {
   "cell_type": "code",
   "execution_count": 110,
   "id": "a0d0f533",
   "metadata": {},
   "outputs": [],
   "source": [
    "def get_balance(target):\n",
    "    target_part = target[target == 1].shape[0] / target.shape[0]\n",
    "    print(f'Доля объектов положительного класса {round(target_part, 3)}')\n",
    "    print(f'Доля объектов отрицательного класса {round(1 - target_part, 3)}')"
   ]
  },
  {
   "cell_type": "code",
   "execution_count": 111,
   "id": "12400c80",
   "metadata": {},
   "outputs": [
    {
     "name": "stdout",
     "output_type": "stream",
     "text": [
      "Доля объектов положительного класса 0.199\n",
      "Доля объектов отрицательного класса 0.801\n"
     ]
    }
   ],
   "source": [
    "get_balance(target_train)"
   ]
  },
  {
   "cell_type": "markdown",
   "id": "34eb1d0e",
   "metadata": {},
   "source": [
    "Проверим классы целевого признака обучающей выборки на дисбаланс. Доля наиболее часто встречающегося класса равна 0.801. Необходимо уменьшить дисбаланс, чтобы данный показатель был близок к 50%. Возможно сделав количество классов равным друг другу, удастся увеличить показатель метрики f1"
   ]
  },
  {
   "cell_type": "markdown",
   "id": "ad49b988",
   "metadata": {},
   "source": [
    "### Использование параметра class_weight"
   ]
  },
  {
   "cell_type": "code",
   "execution_count": 112,
   "id": "bd1f33c3",
   "metadata": {},
   "outputs": [
    {
     "name": "stdout",
     "output_type": "stream",
     "text": [
      "Показатель метрики roc-auc score: 0.844\n",
      "Показатель метрики f1 score: 0.553\n"
     ]
    }
   ],
   "source": [
    "model = RandomForestClassifier(\n",
    "    n_estimators=best_estimators, max_depth=best_depth_forest, \n",
    "    random_state=RANDOM_STATE, class_weight='balanced'\n",
    ")\n",
    "model.fit(features_train, target_train)\n",
    "compute_roc_auc_score(model, features_valid, target_valid)\n",
    "compute_f1_score(model, features_valid, target_valid)"
   ]
  },
  {
   "cell_type": "code",
   "execution_count": 113,
   "id": "250322aa",
   "metadata": {},
   "outputs": [
    {
     "name": "stdout",
     "output_type": "stream",
     "text": [
      "Показатель метрики roc-auc score: 0.822\n",
      "Показатель метрики f1 score: 0.566\n"
     ]
    }
   ],
   "source": [
    "model = DecisionTreeClassifier(\n",
    "    max_depth=best_depth_tree, \n",
    "    random_state=RANDOM_STATE, class_weight='balanced'\n",
    ")\n",
    "model.fit(features_train, target_train)\n",
    "compute_roc_auc_score(model, features_valid, target_valid)\n",
    "compute_f1_score(model, features_valid, target_valid)"
   ]
  },
  {
   "cell_type": "code",
   "execution_count": 114,
   "id": "de0b9292",
   "metadata": {},
   "outputs": [
    {
     "name": "stdout",
     "output_type": "stream",
     "text": [
      "Показатель метрики roc-auc score: 0.679\n",
      "Показатель метрики f1 score: 0.429\n"
     ]
    }
   ],
   "source": [
    "model = LogisticRegression(class_weight='balanced')\n",
    "model.fit(features_train, target_train)\n",
    "compute_roc_auc_score(model, features_valid, target_valid)\n",
    "compute_f1_score(model, features_valid, target_valid)"
   ]
  },
  {
   "cell_type": "markdown",
   "id": "ff0e41f4",
   "metadata": {},
   "source": [
    "Попробуем сбалансировать классы. У всех рассмотренных нами ранее моделей есть гиперпараметр, отвечающий за баланс классов. При значении данного параметра равного 'balanced' редкому классу будет задан ранг выше, чем у часто встречающегося класса. Оценив результаты можно сказать, что значительные изменения произошли для моделей регрессии, её показатель f1 стал равен 0.429, и модели дерева решений, её показатель f1 вырос до 0.566 однако этого все равно не достаточно."
   ]
  },
  {
   "cell_type": "markdown",
   "id": "f2aca641",
   "metadata": {},
   "source": [
    "### Техника downsampling"
   ]
  },
  {
   "cell_type": "code",
   "execution_count": 115,
   "id": "52aa37bd",
   "metadata": {},
   "outputs": [],
   "source": [
    "features_zeros = features_train[target_train == 0]\n",
    "features_ones = features_train[target_train == 1]\n",
    "target_zeros = target_train[target_train == 0]\n",
    "target_ones = target_train[target_train == 1]\n",
    "features_downsampled = pd.concat([features_zeros.sample(frac=.3, random_state=RANDOM_STATE)] + [features_ones])\n",
    "target_downsampled = pd.concat([target_zeros.sample(frac=.3, random_state=RANDOM_STATE)] + [target_ones])\n",
    "\n",
    "features_downsampled, target_downsampled = shuffle(features_downsampled, target_downsampled, random_state=RANDOM_STATE)"
   ]
  },
  {
   "cell_type": "code",
   "execution_count": 116,
   "id": "91701e75",
   "metadata": {},
   "outputs": [
    {
     "name": "stdout",
     "output_type": "stream",
     "text": [
      "Доля объектов положительного класса 0.454\n",
      "Доля объектов отрицательного класса 0.546\n"
     ]
    }
   ],
   "source": [
    "get_balance(target_downsampled)"
   ]
  },
  {
   "cell_type": "markdown",
   "id": "ab5119ce",
   "metadata": {},
   "source": [
    "Попробуем убрать дисбаланс классов с помощью техники уменьшения выборки (downsampling). Разделим все признаки тренировочной выборки на два класса отрицательные и положительные, затем сделаем количество признаков с отрицательным классом примерно равным количеству положительных классов, объединим их в один набор данных и перемешаем - таким образом мы получим новый, уменьшенный набор признаков, но уже без сильного дисбаланса классов. Тоже самое сделаем с целевыми признаками. Проверим долю каждого класса по отношению к новой (уменьшенной) обучающей выборке. Теперь доли классов приблизительно равны:\n",
    "Доля объектов положительного класса 0.454\n",
    "Доля объектов отрицательного класса 0.546"
   ]
  },
  {
   "cell_type": "markdown",
   "id": "6331c510",
   "metadata": {},
   "source": [
    "#### Модель случайного леса"
   ]
  },
  {
   "cell_type": "code",
   "execution_count": 117,
   "id": "f3635453",
   "metadata": {},
   "outputs": [
    {
     "name": "stdout",
     "output_type": "stream",
     "text": [
      "best_depth: 9, score: 0.597938144329897\n"
     ]
    }
   ],
   "source": [
    "best_depth_forest = get_best_depth_forest(features_downsampled, target_downsampled)"
   ]
  },
  {
   "cell_type": "code",
   "execution_count": 118,
   "id": "ceb5fe7b",
   "metadata": {},
   "outputs": [
    {
     "name": "stdout",
     "output_type": "stream",
     "text": [
      "Показатель метрики roc-auc score: 0.84\n"
     ]
    }
   ],
   "source": [
    "model = RandomForestClassifier(n_estimators=20, max_depth=best_depth_forest, random_state=RANDOM_STATE)\n",
    "model.fit(features_downsampled, target_downsampled)\n",
    "compute_roc_auc_score(model, features_valid, target_valid)"
   ]
  },
  {
   "cell_type": "code",
   "execution_count": 119,
   "id": "ed72c276",
   "metadata": {},
   "outputs": [
    {
     "name": "stdout",
     "output_type": "stream",
     "text": [
      "best_estimators: 20, best_score: 0.597938144329897\n"
     ]
    }
   ],
   "source": [
    "best_estimators = get_best_estimators(features_downsampled, target_downsampled, best_depth_forest)"
   ]
  },
  {
   "cell_type": "code",
   "execution_count": 120,
   "id": "66293727",
   "metadata": {},
   "outputs": [
    {
     "name": "stdout",
     "output_type": "stream",
     "text": [
      "Показатель метрики roc-auc score: 0.84\n",
      "Показатель метрики f1 score: 0.598\n"
     ]
    }
   ],
   "source": [
    "model = RandomForestClassifier(n_estimators=best_estimators, max_depth=best_depth_forest, random_state=RANDOM_STATE)\n",
    "model.fit(features_downsampled, target_downsampled)\n",
    "compute_roc_auc_score(model, features_valid, target_valid)\n",
    "compute_f1_score(model, features_valid, target_valid)"
   ]
  },
  {
   "cell_type": "markdown",
   "id": "c9b5aeca",
   "metadata": {},
   "source": [
    "#### Дерево решений"
   ]
  },
  {
   "cell_type": "code",
   "execution_count": 121,
   "id": "24556263",
   "metadata": {},
   "outputs": [
    {
     "name": "stdout",
     "output_type": "stream",
     "text": [
      "best_depth: 5, score: 0.5834230355220668\n"
     ]
    }
   ],
   "source": [
    "best_depth_tree = get_best_depth_tree(features_downsampled, target_downsampled)"
   ]
  },
  {
   "cell_type": "code",
   "execution_count": 122,
   "id": "676dd6ab",
   "metadata": {},
   "outputs": [
    {
     "name": "stdout",
     "output_type": "stream",
     "text": [
      "Показатель метрики roc-auc score: 0.829\n",
      "Показатель метрики f1 score: 0.583\n"
     ]
    }
   ],
   "source": [
    "model = DecisionTreeClassifier(max_depth=best_depth_tree, random_state=RANDOM_STATE)\n",
    "model.fit(features_downsampled, target_downsampled)\n",
    "compute_roc_auc_score(model, features_valid, target_valid)\n",
    "compute_f1_score(model, features_valid, target_valid)"
   ]
  },
  {
   "cell_type": "markdown",
   "id": "703453b0",
   "metadata": {},
   "source": [
    "#### Логистическая регрессия"
   ]
  },
  {
   "cell_type": "code",
   "execution_count": 123,
   "id": "720fddb1",
   "metadata": {},
   "outputs": [
    {
     "name": "stdout",
     "output_type": "stream",
     "text": [
      "Показатель метрики roc-auc score: 0.678\n",
      "Показатель метрики f1 score: 0.427\n"
     ]
    }
   ],
   "source": [
    "model = LogisticRegression(random_state=RANDOM_STATE, class_weight='balanced')\n",
    "model.fit(features_downsampled, target_downsampled)\n",
    "compute_roc_auc_score(model, features_valid, target_valid)\n",
    "compute_f1_score(model, features_valid, target_valid)"
   ]
  },
  {
   "cell_type": "markdown",
   "id": "c24bf7c3",
   "metadata": {},
   "source": [
    "Обучим модели случайного леса, дерева решений, и логистической регрессии, на новых данных, учитывающих дисбаланс и проверим увеличились ли показатели метрик f1 и roc-auc. В ходе исследования, мы видим, что у всех трех моделей увеличились показатели метрик f1 и roc-auc. Однако только у модели  случайного леса показатель f1 соответствует нашим требованием и превышает значение 0.59: показатель метрики f1 score = 0.598,  показатель метрики roc-auc score = 0.84"
   ]
  },
  {
   "cell_type": "markdown",
   "id": "6b39662c",
   "metadata": {},
   "source": [
    "## Тестирование модели"
   ]
  },
  {
   "cell_type": "code",
   "execution_count": 124,
   "id": "26714c23",
   "metadata": {},
   "outputs": [
    {
     "name": "stdout",
     "output_type": "stream",
     "text": [
      "Показатель метрики roc-auc score: 0.836\n",
      "Показатель метрики f1 score: 0.608\n"
     ]
    }
   ],
   "source": [
    "model = RandomForestClassifier(n_estimators=best_estimators, max_depth=best_depth_forest, random_state=RANDOM_STATE)\n",
    "model.fit(features_downsampled, target_downsampled)\n",
    "compute_roc_auc_score(model, features_test, target_test)\n",
    "compute_f1_score(model, features_test, target_test)"
   ]
  },
  {
   "cell_type": "markdown",
   "id": "e25b7b88",
   "metadata": {},
   "source": [
    "Проведем тестирование модели с наилучшим показателем метрики f1 - модель случайного леса. Проверку будем осуществлять на третьей выборке - тестовом наборе данных (test). Создав модель с наилучшими значениями гиперпараметров и посчитав метрики на этой моделе мы видим, что показатели даже немного превосходят те, что мы получили на валидационных данных. Следовательно наша модель прошла проверку."
   ]
  },
  {
   "cell_type": "markdown",
   "id": "da0c8d75",
   "metadata": {},
   "source": [
    "Посчитаем метрику auc-roc (площадь под roc-кривой). Показатель этой метрики равен 0.751. Этот метрика показывает нам долю верно предсказанных пар объектов: (объект класса 1, объекта класса 2)"
   ]
  },
  {
   "cell_type": "markdown",
   "id": "b8e510df",
   "metadata": {},
   "source": [
    "## Вывод"
   ]
  },
  {
   "cell_type": "markdown",
   "id": "6a9eb14c",
   "metadata": {},
   "source": [
    "В ходе исследования было сделано следующее:\n",
    "\n",
    "- из выборки были выделены признаки:\n",
    "    CreditScore — кредитный рейтинг\n",
    "    Geography — страна проживания\n",
    "    Gender — пол\n",
    "    Age — возраст\n",
    "    Tenure — сколько лет человек является клиентом банка\n",
    "    Balance — баланс на счёте\n",
    "    NumOfProducts — количество продуктов банка, используемых клиентом\n",
    "    HasCrCard — наличие кредитной карты\n",
    "    IsActiveMember — активность клиента\n",
    "    EstimatedSalary — предполагаемая зарплата\n",
    "    и целевой признак Exited — факт ухода клиента\n",
    "- вся выборка была разделена на три части: обучающая выборка (train) - она составит 60% от первоначальной, тестовая выборка (test) - она составит 20% от первоначальной, валидационная выборка (valid) - она также составит 20% от первоначальной.\n",
    "- категориальные признаки были закодированы способом One-hot-encoding\n",
    "- был осуществлен поиск показателей метрик f1, roc-auc без учета дисбаланса классов, на трех моделях:\n",
    "    - Модель случайного леса\n",
    "    - Дерево решений\n",
    "    - Логистическая регрессия\n",
    "- также для этих моделей были найдены лучшие показатели гиперпараметров, при которых мы получили наивысшие значения метрик высшие значения метрик.\n",
    "- были вычислены следующие показатели:\n",
    "    - модель случайный лес: показатель метрики roc-auc score 0.848, показатель метрики f1 score: 0.557\n",
    "    - модель дерево решений: показатель метрики roc-auc score 0.836, показатель метрики f1 score: 0.531\n",
    "    - модель логистическая регрессия: показатель метрики roc-auc score 0.642, показатель метрики f1 score: 0.137\n",
    "- чтобы улучшить показатель метрики f1, была сделана перебалансровка классов\n",
    "- изначальная доля классов по сравнению с тренировочным набором данных целевого признака составила: доля объектов положительного класса 0.199, доля объектов отрицательного класса 0.801\n",
    "- для борьбы с дисбалансом было использовано два метода\n",
    "- первый метод заключался в том, что для моделей мы задали параметр class_weight со значением 'balanced'. Этот параметр задает редкому классу ранг выше, чем у часто встречающегося класса. Особого результата метод не дал. Показатели метрик следующие:\n",
    "     - модель случайный лес: показатель метрики roc-auc score 0.845, показатель метрики f1 score: 0.503\n",
    "     - модель дерево решений: показатель метрики roc-auc score 0.822, показатель метрики f1 score: 0.566\n",
    "     - модель логистическая регрессия: показатель метрики roc-auc score 0.679, показатель метрики f1 score: 0.429\n",
    "- второй метод заключался в уменьшении тестовой выборки (техника downsampling), и приведению доли часто встречающегося класса к доле редкого класса. После использования этого  метода для модели были обучены с использованием новых (сбалансированных классов), а также для них были подобраны, новые значения гиперпараметров.\n",
    "    - модель случайный лес: показатель метрики roc-auc score 0.849, показатель метрики f1 score: 0.603\n",
    "    - модель дерево решений: показатель метрики roc-auc score 0.829, показатель метрики f1 score: 0.583\n",
    "    - модель логистическая регрессия: показатель метрики roc-auc score 0.678, показатель метрики f1 score: 0.427\n",
    "- модели  случайного леса показала наилучший результат метрики f1 - 0.603\n",
    "- также было проведено тестирование модели с наилучшим показателем метрики f1.. Проверка осуществлялась на третьем - тестовом наборе данных (test). Создав модель с наилучшими значениями гиперпараметров и посчитав метрики на этой моделе мы убедились, удовлетворяют нашим требованием. Значение метрики f1 составило 0.608\n"
   ]
  },
  {
   "cell_type": "markdown",
   "id": "803077c8",
   "metadata": {},
   "source": [
    "## Чек-лист готовности проекта"
   ]
  },
  {
   "cell_type": "markdown",
   "id": "5b92f79c",
   "metadata": {},
   "source": [
    "Поставьте 'x' в выполненных пунктах. Далее нажмите Shift+Enter."
   ]
  },
  {
   "cell_type": "markdown",
   "id": "fe07fa67",
   "metadata": {},
   "source": [
    "- [x]  Jupyter Notebook открыт\n",
    "- [x]  Весь код выполняется без ошибок\n",
    "- [x]  Ячейки с кодом расположены в порядке исполнения\n",
    "- [x]  Выполнен шаг 1: данные подготовлены\n",
    "- [x]  Выполнен шаг 2: задача исследована\n",
    "    - [x]  Исследован баланс классов\n",
    "    - [x]  Изучены модели без учёта дисбаланса\n",
    "    - [x]  Написаны выводы по результатам исследования\n",
    "- [x]  Выполнен шаг 3: учтён дисбаланс\n",
    "    - [x]  Применено несколько способов борьбы с дисбалансом\n",
    "    - [x]  Написаны выводы по результатам исследования\n",
    "- [x]  Выполнен шаг 4: проведено тестирование\n",
    "- [x]  Удалось достичь *F1*-меры не менее 0.59\n",
    "- [x]  Исследована метрика *AUC-ROC*"
   ]
  }
 ],
 "metadata": {
  "kernelspec": {
   "display_name": "Python 3 (ipykernel)",
   "language": "python",
   "name": "python3"
  },
  "language_info": {
   "codemirror_mode": {
    "name": "ipython",
    "version": 3
   },
   "file_extension": ".py",
   "mimetype": "text/x-python",
   "name": "python",
   "nbconvert_exporter": "python",
   "pygments_lexer": "ipython3",
   "version": "3.9.13"
  },
  "toc": {
   "base_numbering": 1,
   "nav_menu": {},
   "number_sections": true,
   "sideBar": true,
   "skip_h1_title": true,
   "title_cell": "Table of Contents",
   "title_sidebar": "Contents",
   "toc_cell": true,
   "toc_position": {},
   "toc_section_display": true,
   "toc_window_display": false
  }
 },
 "nbformat": 4,
 "nbformat_minor": 5
}
